{
 "cells": [
  {
   "cell_type": "markdown",
   "metadata": {
    "ExecuteTime": {
     "end_time": "2021-04-17T01:40:31.810861Z",
     "start_time": "2021-04-17T01:40:30.961354Z"
    },
    "heading_collapsed": true
   },
   "source": [
    "## Planejamento da solução (IOT)"
   ]
  },
  {
   "cell_type": "markdown",
   "metadata": {
    "ExecuteTime": {
     "end_time": "2021-04-17T01:43:18.021535Z",
     "start_time": "2021-04-17T01:43:18.017530Z"
    },
    "heading_collapsed": true,
    "hidden": true
   },
   "source": [
    "### Input - Entrada"
   ]
  },
  {
   "cell_type": "markdown",
   "metadata": {
    "hidden": true
   },
   "source": [
    "1. Problema de negócio\n",
    "    - Selecionar os clientes mais valiosos para integrar um programa de fidelização\n",
    "    \n",
    "    \n",
    "2. Conjunto de dados\n",
    "    - Vendas de um e-comerce online, durante o período de um ano"
   ]
  },
  {
   "cell_type": "markdown",
   "metadata": {
    "heading_collapsed": true,
    "hidden": true
   },
   "source": [
    "### Output - Saída"
   ]
  },
  {
   "cell_type": "markdown",
   "metadata": {
    "hidden": true
   },
   "source": [
    "1. A indicação das pessoas que farão parte do programa de Insiders\n",
    "    - Lista: client_id | is_insider\n",
    "                10254  | yes\n",
    "                88347  | no\n",
    "                \n",
    "2. Relatório com as respostas das pergumtas de negócio\n",
    "\n",
    "    - Quem são as pessoas elegíveis para participar do programa de Insiders ?\n",
    "    \n",
    "    - Quantos clientes farão parte do grupo?\n",
    "    \n",
    "    - Quais as principais características desses clientes ?\n",
    "    \n",
    "    - Qual a porcentagem de contribuição do faturamento, vinda do Insiders ?\n",
    "    \n",
    "    - Qual a expectativa de faturamento desse grupo para os próximos meses ?\n",
    "    \n",
    "    - Quais as condições para uma pessoa ser elegível ao Insiders ?\n",
    "    \n",
    "    - Quais as condições para uma pessoa ser removida do Insiders ?\n",
    "    \n",
    "    - Qual a garantia que o programa Insiders é melhor que o restante da base ?\n",
    "    \n",
    "    - Quais ações o time de marketing pode realizar para aumentar o faturamento?"
   ]
  },
  {
   "cell_type": "markdown",
   "metadata": {
    "heading_collapsed": true,
    "hidden": true
   },
   "source": [
    "### Tasks - Tarefas"
   ]
  },
  {
   "cell_type": "markdown",
   "metadata": {
    "hidden": true
   },
   "source": [
    "1. Quem são as pessoas elegíveis para participar do programa de Insiders ?\n",
    "    - O que é ser elegível? O que são clientes de maior \"valor\"?\n",
    "    - Faturamento:\n",
    "        - Alto ticket médio.\n",
    "        - Alto LTV.\n",
    "        - Baixa recência.\n",
    "        - Alto basket size.\n",
    "        - Baixa probabilidade de churn.\n",
    "        - Alta previsão LTV.\n",
    "        - Alta propensão de compra.\n",
    "        \n",
    "    - Custo:\n",
    "        - Baixa taxa de devolução.\n",
    "        \n",
    "    - Experiencia de compra:\n",
    "        - Média alta de avaliação\n",
    "        \n",
    "\n",
    "2. Quantos clientes farão parte do grupo?\n",
    "    - Número total de clientes;\n",
    "    - % do grupo Insiders\n",
    "    \n",
    "\n",
    "3. Quais as principais características desses clientes ?\n",
    "    - Escrever características do cliente:\n",
    "        - Idade;\n",
    "        - Localização;\n",
    "        - País;\n",
    "        \n",
    "    - Escrever caracteristicas do consumo:\n",
    "        - Atributos da clusterização\n",
    "\n",
    "\n",
    "4. Qual a porcentagem de contribuição do faturamento, vinda do Insiders ?\n",
    "    - Faturamento total do ano;\n",
    "    - Faturamento do grupo Insiders;\n",
    "\n",
    "\n",
    "5. Qual a expectativa de faturamento desse grupo para os próximos meses ?\n",
    "     - LTV do grupo Insiders;\n",
    "     - Análise de Cohort;\n",
    "     - Séries temporais (ARIMA, HoltWinter);\n",
    "\n",
    "\n",
    "6. Quais as condições para uma pessoa ser elegível ao Insiders ?\n",
    "     - Definir a periodicidade (1 mês, 3 mêses);\n",
    "     - A pessoa precsa ser similar ou parecido com uma pessoa do grupo\n",
    "     \n",
    "\n",
    "7. Quais as condições para uma pessoa ser removida do Insiders ?\n",
    "    - Definir a periodicidade (1 mês, 3 mêses);\n",
    "    - A pessoa precisa ser desimilar ou não-parecido com uma pessoa do grupo\n",
    "\n",
    "\n",
    "8. Qual a garantia que o programa Insiders é melhor que o restante da base ?\n",
    "    - Teste A/B\n",
    "    - Teste A/B Bayesiano\n",
    "    - Teste de hipóteses\n",
    "\n",
    "\n",
    "9. Quais ações o time de marketing pode realizar para aumentar o faturamento?\n",
    "    - Desconto;\n",
    "    - Preferencia de compra;\n",
    "    - Produtos exclusivos"
   ]
  },
  {
   "cell_type": "markdown",
   "metadata": {
    "heading_collapsed": true
   },
   "source": [
    "# 0.0 Imports"
   ]
  },
  {
   "cell_type": "code",
   "execution_count": 50,
   "metadata": {
    "ExecuteTime": {
     "end_time": "2021-04-18T06:33:28.050527Z",
     "start_time": "2021-04-18T06:33:28.039529Z"
    },
    "hidden": true
   },
   "outputs": [],
   "source": [
    "import pandas            as pd\n",
    "import numpy             as np\n",
    "import seaborn           as sns\n",
    "from matplotlib          import pyplot as plt\n",
    "from IPython.display     import HTML\n",
    "from sklearn             import cluster as c\n",
    "from yellowbrick.cluster import KElbowVisualizer"
   ]
  },
  {
   "cell_type": "markdown",
   "metadata": {
    "heading_collapsed": true,
    "hidden": true
   },
   "source": [
    "## 0.1 Helper Functions"
   ]
  },
  {
   "cell_type": "code",
   "execution_count": 51,
   "metadata": {
    "ExecuteTime": {
     "end_time": "2021-04-18T06:33:28.080507Z",
     "start_time": "2021-04-18T06:33:28.054524Z"
    },
    "hidden": true
   },
   "outputs": [
    {
     "name": "stdout",
     "output_type": "stream",
     "text": [
      "Populating the interactive namespace from numpy and matplotlib\n"
     ]
    },
    {
     "data": {
      "text/html": [
       "<style>.container { width:100% !important; }</style>"
      ],
      "text/plain": [
       "<IPython.core.display.HTML object>"
      ]
     },
     "metadata": {},
     "output_type": "display_data"
    }
   ],
   "source": [
    "def jupyter_settings():\n",
    "    %matplotlib inline\n",
    "    %pylab inline\n",
    "    \n",
    "    plt.style.use( 'bmh' )\n",
    "    plt.rcParams['figure.figsize'] = [18, 9]\n",
    "    plt.rcParams['font.size'] = 24\n",
    "\n",
    "    display( HTML( '<style>.container { width:100% !important; }</style>') )\n",
    "    pd.options.display.max_columns = None\n",
    "    pd.options.display.max_rows = None\n",
    "    pd.set_option( 'display.expand_frame_repr', False )\n",
    "    pd.set_option('display.float_format', lambda x: '%.2f' % x)\n",
    "    sns.set()\n",
    "    \n",
    "jupyter_settings()"
   ]
  },
  {
   "cell_type": "markdown",
   "metadata": {
    "heading_collapsed": true,
    "hidden": true
   },
   "source": [
    "## 0.2 Load Data"
   ]
  },
  {
   "cell_type": "code",
   "execution_count": 52,
   "metadata": {
    "ExecuteTime": {
     "end_time": "2021-04-18T06:33:28.940522Z",
     "start_time": "2021-04-18T06:33:28.084506Z"
    },
    "hidden": true
   },
   "outputs": [],
   "source": [
    "df_raw = pd.read_csv('data/Ecommerce.csv')"
   ]
  },
  {
   "cell_type": "code",
   "execution_count": 53,
   "metadata": {
    "ExecuteTime": {
     "end_time": "2021-04-18T06:33:29.020458Z",
     "start_time": "2021-04-18T06:33:28.943502Z"
    },
    "hidden": true
   },
   "outputs": [],
   "source": [
    "# droping extra column\n",
    "df_raw.drop(columns=['Unnamed: 8'], axis=1, inplace=True)"
   ]
  },
  {
   "cell_type": "markdown",
   "metadata": {
    "heading_collapsed": true
   },
   "source": [
    "# 1.0 Data Description"
   ]
  },
  {
   "cell_type": "code",
   "execution_count": 54,
   "metadata": {
    "ExecuteTime": {
     "end_time": "2021-04-18T06:33:29.164460Z",
     "start_time": "2021-04-18T06:33:29.024457Z"
    },
    "hidden": true
   },
   "outputs": [],
   "source": [
    "df1 = df_raw.copy()"
   ]
  },
  {
   "cell_type": "markdown",
   "metadata": {
    "heading_collapsed": true,
    "hidden": true
   },
   "source": [
    "## 1.1 Rename columns"
   ]
  },
  {
   "cell_type": "code",
   "execution_count": 55,
   "metadata": {
    "ExecuteTime": {
     "end_time": "2021-04-18T06:33:29.180441Z",
     "start_time": "2021-04-18T06:33:29.170472Z"
    },
    "hidden": true
   },
   "outputs": [],
   "source": [
    "df1.columns = ['invoice_no','stock_code','description','quantity','invoice_date','unit_price','customer_id','country']"
   ]
  },
  {
   "cell_type": "markdown",
   "metadata": {
    "heading_collapsed": true,
    "hidden": true
   },
   "source": [
    "## 1.2 Data Dimensions"
   ]
  },
  {
   "cell_type": "code",
   "execution_count": 56,
   "metadata": {
    "ExecuteTime": {
     "end_time": "2021-04-18T06:33:29.212422Z",
     "start_time": "2021-04-18T06:33:29.187436Z"
    },
    "hidden": true
   },
   "outputs": [
    {
     "data": {
      "text/plain": [
       "(541909, 8)"
      ]
     },
     "execution_count": 56,
     "metadata": {},
     "output_type": "execute_result"
    }
   ],
   "source": [
    "df1.shape"
   ]
  },
  {
   "cell_type": "markdown",
   "metadata": {
    "heading_collapsed": true,
    "hidden": true
   },
   "source": [
    "## 1.3 Data types"
   ]
  },
  {
   "cell_type": "code",
   "execution_count": 57,
   "metadata": {
    "ExecuteTime": {
     "end_time": "2021-04-18T06:33:29.244403Z",
     "start_time": "2021-04-18T06:33:29.222417Z"
    },
    "hidden": true
   },
   "outputs": [
    {
     "data": {
      "text/plain": [
       "invoice_no       object\n",
       "stock_code       object\n",
       "description      object\n",
       "quantity          int64\n",
       "invoice_date     object\n",
       "unit_price      float64\n",
       "customer_id     float64\n",
       "country          object\n",
       "dtype: object"
      ]
     },
     "execution_count": 57,
     "metadata": {},
     "output_type": "execute_result"
    }
   ],
   "source": [
    "df1.dtypes"
   ]
  },
  {
   "cell_type": "markdown",
   "metadata": {
    "heading_collapsed": true,
    "hidden": true
   },
   "source": [
    "## 1.4 Check Na"
   ]
  },
  {
   "cell_type": "code",
   "execution_count": 58,
   "metadata": {
    "ExecuteTime": {
     "end_time": "2021-04-18T06:33:29.418334Z",
     "start_time": "2021-04-18T06:33:29.250400Z"
    },
    "hidden": true
   },
   "outputs": [
    {
     "data": {
      "text/plain": [
       "invoice_no           0\n",
       "stock_code           0\n",
       "description       1454\n",
       "quantity             0\n",
       "invoice_date         0\n",
       "unit_price           0\n",
       "customer_id     135080\n",
       "country              0\n",
       "dtype: int64"
      ]
     },
     "execution_count": 58,
     "metadata": {},
     "output_type": "execute_result"
    }
   ],
   "source": [
    "df1.isnull().sum()"
   ]
  },
  {
   "cell_type": "markdown",
   "metadata": {
    "heading_collapsed": true,
    "hidden": true
   },
   "source": [
    "## 1.5 Replace Na"
   ]
  },
  {
   "cell_type": "code",
   "execution_count": 59,
   "metadata": {
    "ExecuteTime": {
     "end_time": "2021-04-18T06:33:29.621677Z",
     "start_time": "2021-04-18T06:33:29.420303Z"
    },
    "hidden": true
   },
   "outputs": [],
   "source": [
    "# remove na\n",
    "df1.dropna(subset=['description','customer_id'], inplace=True)"
   ]
  },
  {
   "cell_type": "markdown",
   "metadata": {
    "heading_collapsed": true,
    "hidden": true
   },
   "source": [
    "## 1.6 Change Types"
   ]
  },
  {
   "cell_type": "code",
   "execution_count": 60,
   "metadata": {
    "ExecuteTime": {
     "end_time": "2021-04-18T06:33:29.716893Z",
     "start_time": "2021-04-18T06:33:29.623961Z"
    },
    "hidden": true
   },
   "outputs": [],
   "source": [
    "# invoice date\n",
    "df1['invoice_date'] = pd.to_datetime(df1['invoice_date'], format='%d-%b-%y')\n",
    "\n",
    "# customer_id\n",
    "df1['customer_id'] = df1['customer_id'].astype(int)"
   ]
  },
  {
   "cell_type": "markdown",
   "metadata": {
    "heading_collapsed": true,
    "hidden": true
   },
   "source": [
    "## 1.7 Descriptive Statistics "
   ]
  },
  {
   "cell_type": "code",
   "execution_count": null,
   "metadata": {
    "hidden": true
   },
   "outputs": [],
   "source": []
  },
  {
   "cell_type": "markdown",
   "metadata": {
    "heading_collapsed": true
   },
   "source": [
    "# 2.0 Feature Engineering"
   ]
  },
  {
   "cell_type": "code",
   "execution_count": 61,
   "metadata": {
    "ExecuteTime": {
     "end_time": "2021-04-18T06:33:29.797018Z",
     "start_time": "2021-04-18T06:33:29.718890Z"
    },
    "hidden": true
   },
   "outputs": [],
   "source": [
    "df2 = df1.copy()"
   ]
  },
  {
   "cell_type": "markdown",
   "metadata": {
    "heading_collapsed": true,
    "hidden": true
   },
   "source": [
    "## 2.1 Feature Creation"
   ]
  },
  {
   "cell_type": "code",
   "execution_count": 62,
   "metadata": {
    "ExecuteTime": {
     "end_time": "2021-04-18T06:33:29.843282Z",
     "start_time": "2021-04-18T06:33:29.799244Z"
    },
    "hidden": true
   },
   "outputs": [],
   "source": [
    "df_ref = df2.drop(['invoice_no','stock_code','description','quantity',\n",
    "                   'invoice_date','unit_price','country'], axis=1).drop_duplicates(ignore_index=True)"
   ]
  },
  {
   "cell_type": "code",
   "execution_count": 63,
   "metadata": {
    "ExecuteTime": {
     "end_time": "2021-04-18T06:33:30.032570Z",
     "start_time": "2021-04-18T06:33:29.845052Z"
    },
    "hidden": true
   },
   "outputs": [],
   "source": [
    "# Gross Revenue (Faturamento)\n",
    "df2['gross_revenue'] = df2['quantity'] * df2['unit_price']\n",
    "\n",
    "# Monetary\n",
    "df_monetary = df2[['customer_id','gross_revenue']].groupby('customer_id').sum().reset_index()\n",
    "df_ref = pd.merge(df_ref, df_monetary, on='customer_id', how='left')\n",
    "\n",
    "# Recency - last day purchase\n",
    "df_recency = df2[['customer_id','invoice_date']].groupby('customer_id').max().reset_index()\n",
    "df_recency['recency_days'] = (df2['invoice_date'].max() - df_recency['invoice_date']).dt.days\n",
    "df_recency = df_recency[['customer_id','recency_days']].copy()\n",
    "df_ref = pd.merge(df_ref, df_recency, on='customer_id', how='left')\n",
    "\n",
    "# Frequency\n",
    "df_freq = df2[['customer_id','invoice_no']].drop_duplicates().groupby('customer_id').count().reset_index()\n",
    "df_ref = pd.merge(df_ref, df_freq, on='customer_id', how='left')"
   ]
  },
  {
   "cell_type": "code",
   "execution_count": null,
   "metadata": {
    "hidden": true
   },
   "outputs": [],
   "source": []
  },
  {
   "cell_type": "code",
   "execution_count": null,
   "metadata": {
    "hidden": true
   },
   "outputs": [],
   "source": []
  },
  {
   "cell_type": "markdown",
   "metadata": {
    "heading_collapsed": true
   },
   "source": [
    "# 3.0 Variable Filtering"
   ]
  },
  {
   "cell_type": "code",
   "execution_count": 64,
   "metadata": {
    "ExecuteTime": {
     "end_time": "2021-04-18T06:33:30.048561Z",
     "start_time": "2021-04-18T06:33:30.035569Z"
    },
    "hidden": true
   },
   "outputs": [],
   "source": [
    "df3 = df_ref.copy()"
   ]
  },
  {
   "cell_type": "markdown",
   "metadata": {
    "heading_collapsed": true
   },
   "source": [
    "# 4.0  EDA"
   ]
  },
  {
   "cell_type": "code",
   "execution_count": 65,
   "metadata": {
    "ExecuteTime": {
     "end_time": "2021-04-18T06:33:30.160662Z",
     "start_time": "2021-04-18T06:33:30.051560Z"
    },
    "hidden": true
   },
   "outputs": [],
   "source": [
    "df4 = df3.copy()"
   ]
  },
  {
   "cell_type": "markdown",
   "metadata": {
    "heading_collapsed": true
   },
   "source": [
    "# 5.0 Data Preparation"
   ]
  },
  {
   "cell_type": "code",
   "execution_count": 66,
   "metadata": {
    "ExecuteTime": {
     "end_time": "2021-04-18T06:33:30.176657Z",
     "start_time": "2021-04-18T06:33:30.166656Z"
    },
    "hidden": true
   },
   "outputs": [],
   "source": [
    "df5 = df4.copy()"
   ]
  },
  {
   "cell_type": "markdown",
   "metadata": {
    "heading_collapsed": true
   },
   "source": [
    "# 6.0 Feature Selection"
   ]
  },
  {
   "cell_type": "code",
   "execution_count": 67,
   "metadata": {
    "ExecuteTime": {
     "end_time": "2021-04-18T06:33:30.192666Z",
     "start_time": "2021-04-18T06:33:30.186645Z"
    },
    "hidden": true
   },
   "outputs": [],
   "source": [
    "df6 = df5.copy()"
   ]
  },
  {
   "cell_type": "markdown",
   "metadata": {},
   "source": [
    "# 7.0 Hyperparameter Fine_Tunning"
   ]
  },
  {
   "cell_type": "code",
   "execution_count": 68,
   "metadata": {
    "ExecuteTime": {
     "end_time": "2021-04-18T06:33:30.223661Z",
     "start_time": "2021-04-18T06:33:30.196655Z"
    }
   },
   "outputs": [],
   "source": [
    "X = df6.drop(columns=['customer_id'])"
   ]
  },
  {
   "cell_type": "code",
   "execution_count": 69,
   "metadata": {
    "ExecuteTime": {
     "end_time": "2021-04-18T06:33:30.240634Z",
     "start_time": "2021-04-18T06:33:30.232621Z"
    }
   },
   "outputs": [],
   "source": [
    "clusters = [2,3,4,5,6]"
   ]
  },
  {
   "cell_type": "markdown",
   "metadata": {
    "ExecuteTime": {
     "end_time": "2021-04-18T02:48:11.934933Z",
     "start_time": "2021-04-18T02:48:11.911519Z"
    }
   },
   "source": [
    "## 7.1 Within Cluster Sum of Square (WSS)"
   ]
  },
  {
   "cell_type": "code",
   "execution_count": 71,
   "metadata": {
    "ExecuteTime": {
     "end_time": "2021-04-18T06:34:18.822054Z",
     "start_time": "2021-04-18T06:34:17.439852Z"
    }
   },
   "outputs": [
    {
     "data": {
      "image/png": "[encoded data removed]",
      "text/plain": [
       "<Figure size 1296x648 with 1 Axes>"
      ]
     },
     "metadata": {},
     "output_type": "display_data"
    }
   ],
   "source": [
    "wss = []\n",
    "\n",
    "for k in clusters:\n",
    "    # model definiton\n",
    "    kmeans = c.KMeans(init='random', n_clusters=k, n_init=10, max_iter=300, random_state=42 )\n",
    "    \n",
    "    # model training\n",
    "    kmeans.fit(X)\n",
    "    \n",
    "    # validation\n",
    "    wss.append(kmeans.inertia_)\n",
    "    \n",
    "# plot wss\n",
    "plt.plot(clusters, wss, linestyle='--', marker='o', color='k')\n",
    "plt.xlabel('K');\n",
    "plt.ylabel('WSS');\n",
    "plt.title('WSS vs K');"
   ]
  },
  {
   "cell_type": "code",
   "execution_count": 75,
   "metadata": {
    "ExecuteTime": {
     "end_time": "2021-04-18T03:35:42.798237Z",
     "start_time": "2021-04-18T03:35:41.712842Z"
    }
   },
   "outputs": [
    {
     "data": {
      "image/png": "[encoded data removed]",
      "text/plain": [
       "<Figure size 576x396 with 2 Axes>"
      ]
     },
     "metadata": {},
     "output_type": "display_data"
    }
   ],
   "source": [
    "kmeans = KElbowVisualizer(c.KMeans(), k=clusters, timing=False)\n",
    "kmeans.fit(X)\n",
    "kmeans.show();"
   ]
  },
  {
   "cell_type": "markdown",
   "metadata": {},
   "source": [
    "## 7.2 Silhouette Score"
   ]
  },
  {
   "cell_type": "code",
   "execution_count": 76,
   "metadata": {
    "ExecuteTime": {
     "end_time": "2021-04-18T03:35:53.162593Z",
     "start_time": "2021-04-18T03:35:49.166878Z"
    }
   },
   "outputs": [
    {
     "data": {
      "image/png": "[encoded data removed]",
      "text/plain": [
       "<Figure size 576x396 with 2 Axes>"
      ]
     },
     "metadata": {},
     "output_type": "display_data"
    }
   ],
   "source": [
    "kmeans = KElbowVisualizer(c.KMeans(), k=clusters, metric='silhouette', timing=False)\n",
    "kmeans.fit(X)\n",
    "kmeans.show();"
   ]
  },
  {
   "cell_type": "code",
   "execution_count": null,
   "metadata": {},
   "outputs": [],
   "source": []
  },
  {
   "cell_type": "code",
   "execution_count": null,
   "metadata": {},
   "outputs": [],
   "source": []
  },
  {
   "cell_type": "markdown",
   "metadata": {},
   "source": [
    "# 8.0 Model Training"
   ]
  },
  {
   "cell_type": "markdown",
   "metadata": {},
   "source": [
    "# 9.0 Cluster Analysis"
   ]
  },
  {
   "cell_type": "markdown",
   "metadata": {},
   "source": [
    "# 10.0 Deploy"
   ]
  },
  {
   "cell_type": "code",
   "execution_count": null,
   "metadata": {},
   "outputs": [],
   "source": []
  }
 ],
 "metadata": {
  "kernelspec": {
   "display_name": "Python 3",
   "language": "python",
   "name": "python3"
  },
  "language_info": {
   "codemirror_mode": {
    "name": "ipython",
    "version": 3
   },
   "file_extension": ".py",
   "mimetype": "text/x-python",
   "name": "python",
   "nbconvert_exporter": "python",
   "pygments_lexer": "ipython3",
   "version": "3.8.8"
  }
 },
 "nbformat": 4,
 "nbformat_minor": 4
}
